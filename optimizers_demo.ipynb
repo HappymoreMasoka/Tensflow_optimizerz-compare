{
  "nbformat": 4,
  "nbformat_minor": 0,
  "metadata": {
    "colab": {
      "provenance": []
    },
    "kernelspec": {
      "name": "python3",
      "display_name": "Python 3"
    },
    "language_info": {
      "name": "python"
    }
  },
  "cells": [
    {
      "cell_type": "code",
      "execution_count": 1,
      "metadata": {
        "colab": {
          "base_uri": "https://localhost:8080/"
        },
        "id": "C7mUcAMK1KIs",
        "outputId": "a9905a4f-cf92-41f8-9a41-3e24aa632125"
      },
      "outputs": [
        {
          "output_type": "stream",
          "name": "stderr",
          "text": [
            "/usr/local/lib/python3.11/dist-packages/keras/src/layers/core/dense.py:93: UserWarning: Do not pass an `input_shape`/`input_dim` argument to a layer. When using Sequential models, prefer using an `Input(shape)` object as the first layer in the model instead.\n",
            "  super().__init__(activity_regularizer=activity_regularizer, **kwargs)\n"
          ]
        },
        {
          "output_type": "stream",
          "name": "stdout",
          "text": [
            "\u001b[1m1/1\u001b[0m \u001b[32m━━━━━━━━━━━━━━━━━━━━\u001b[0m\u001b[37m\u001b[0m \u001b[1m0s\u001b[0m 58ms/step\n"
          ]
        },
        {
          "output_type": "stream",
          "name": "stderr",
          "text": [
            "/usr/local/lib/python3.11/dist-packages/keras/src/layers/core/dense.py:93: UserWarning: Do not pass an `input_shape`/`input_dim` argument to a layer. When using Sequential models, prefer using an `Input(shape)` object as the first layer in the model instead.\n",
            "  super().__init__(activity_regularizer=activity_regularizer, **kwargs)\n"
          ]
        },
        {
          "output_type": "stream",
          "name": "stdout",
          "text": [
            "\u001b[1m1/1\u001b[0m \u001b[32m━━━━━━━━━━━━━━━━━━━━\u001b[0m\u001b[37m\u001b[0m \u001b[1m0s\u001b[0m 60ms/step\n"
          ]
        },
        {
          "output_type": "stream",
          "name": "stderr",
          "text": [
            "/usr/local/lib/python3.11/dist-packages/keras/src/layers/core/dense.py:93: UserWarning: Do not pass an `input_shape`/`input_dim` argument to a layer. When using Sequential models, prefer using an `Input(shape)` object as the first layer in the model instead.\n",
            "  super().__init__(activity_regularizer=activity_regularizer, **kwargs)\n"
          ]
        },
        {
          "output_type": "stream",
          "name": "stdout",
          "text": [
            "\u001b[1m1/1\u001b[0m \u001b[32m━━━━━━━━━━━━━━━━━━━━\u001b[0m\u001b[37m\u001b[0m \u001b[1m0s\u001b[0m 51ms/step\n"
          ]
        },
        {
          "output_type": "stream",
          "name": "stderr",
          "text": [
            "/usr/local/lib/python3.11/dist-packages/keras/src/layers/core/dense.py:93: UserWarning: Do not pass an `input_shape`/`input_dim` argument to a layer. When using Sequential models, prefer using an `Input(shape)` object as the first layer in the model instead.\n",
            "  super().__init__(activity_regularizer=activity_regularizer, **kwargs)\n"
          ]
        },
        {
          "output_type": "stream",
          "name": "stdout",
          "text": [
            "\u001b[1m1/1\u001b[0m \u001b[32m━━━━━━━━━━━━━━━━━━━━\u001b[0m\u001b[37m\u001b[0m \u001b[1m0s\u001b[0m 54ms/step\n"
          ]
        },
        {
          "output_type": "stream",
          "name": "stderr",
          "text": [
            "/usr/local/lib/python3.11/dist-packages/keras/src/layers/core/dense.py:93: UserWarning: Do not pass an `input_shape`/`input_dim` argument to a layer. When using Sequential models, prefer using an `Input(shape)` object as the first layer in the model instead.\n",
            "  super().__init__(activity_regularizer=activity_regularizer, **kwargs)\n",
            "WARNING:tensorflow:5 out of the last 5 calls to <function TensorFlowTrainer.make_predict_function.<locals>.one_step_on_data_distributed at 0x7d32bb3e4180> triggered tf.function retracing. Tracing is expensive and the excessive number of tracings could be due to (1) creating @tf.function repeatedly in a loop, (2) passing tensors with different shapes, (3) passing Python objects instead of tensors. For (1), please define your @tf.function outside of the loop. For (2), @tf.function has reduce_retracing=True option that can avoid unnecessary retracing. For (3), please refer to https://www.tensorflow.org/guide/function#controlling_retracing and https://www.tensorflow.org/api_docs/python/tf/function for  more details.\n"
          ]
        },
        {
          "output_type": "stream",
          "name": "stdout",
          "text": [
            "\u001b[1m1/1\u001b[0m \u001b[32m━━━━━━━━━━━━━━━━━━━━\u001b[0m\u001b[37m\u001b[0m \u001b[1m0s\u001b[0m 56ms/step\n"
          ]
        },
        {
          "output_type": "stream",
          "name": "stderr",
          "text": [
            "/usr/local/lib/python3.11/dist-packages/keras/src/layers/core/dense.py:93: UserWarning: Do not pass an `input_shape`/`input_dim` argument to a layer. When using Sequential models, prefer using an `Input(shape)` object as the first layer in the model instead.\n",
            "  super().__init__(activity_regularizer=activity_regularizer, **kwargs)\n",
            "WARNING:tensorflow:6 out of the last 6 calls to <function TensorFlowTrainer.make_predict_function.<locals>.one_step_on_data_distributed at 0x7d32bb16c360> triggered tf.function retracing. Tracing is expensive and the excessive number of tracings could be due to (1) creating @tf.function repeatedly in a loop, (2) passing tensors with different shapes, (3) passing Python objects instead of tensors. For (1), please define your @tf.function outside of the loop. For (2), @tf.function has reduce_retracing=True option that can avoid unnecessary retracing. For (3), please refer to https://www.tensorflow.org/guide/function#controlling_retracing and https://www.tensorflow.org/api_docs/python/tf/function for  more details.\n"
          ]
        },
        {
          "output_type": "stream",
          "name": "stdout",
          "text": [
            "\u001b[1m1/1\u001b[0m \u001b[32m━━━━━━━━━━━━━━━━━━━━\u001b[0m\u001b[37m\u001b[0m \u001b[1m0s\u001b[0m 80ms/step\n"
          ]
        },
        {
          "output_type": "stream",
          "name": "stderr",
          "text": [
            "/usr/local/lib/python3.11/dist-packages/keras/src/layers/core/dense.py:93: UserWarning: Do not pass an `input_shape`/`input_dim` argument to a layer. When using Sequential models, prefer using an `Input(shape)` object as the first layer in the model instead.\n",
            "  super().__init__(activity_regularizer=activity_regularizer, **kwargs)\n"
          ]
        },
        {
          "output_type": "stream",
          "name": "stdout",
          "text": [
            "\u001b[1m1/1\u001b[0m \u001b[32m━━━━━━━━━━━━━━━━━━━━\u001b[0m\u001b[37m\u001b[0m \u001b[1m0s\u001b[0m 53ms/step\n"
          ]
        },
        {
          "output_type": "stream",
          "name": "stderr",
          "text": [
            "/usr/local/lib/python3.11/dist-packages/keras/src/layers/core/dense.py:93: UserWarning: Do not pass an `input_shape`/`input_dim` argument to a layer. When using Sequential models, prefer using an `Input(shape)` object as the first layer in the model instead.\n",
            "  super().__init__(activity_regularizer=activity_regularizer, **kwargs)\n"
          ]
        },
        {
          "output_type": "stream",
          "name": "stdout",
          "text": [
            "\u001b[1m1/1\u001b[0m \u001b[32m━━━━━━━━━━━━━━━━━━━━\u001b[0m\u001b[37m\u001b[0m \u001b[1m0s\u001b[0m 58ms/step\n"
          ]
        },
        {
          "output_type": "stream",
          "name": "stderr",
          "text": [
            "/usr/local/lib/python3.11/dist-packages/keras/src/layers/core/dense.py:93: UserWarning: Do not pass an `input_shape`/`input_dim` argument to a layer. When using Sequential models, prefer using an `Input(shape)` object as the first layer in the model instead.\n",
            "  super().__init__(activity_regularizer=activity_regularizer, **kwargs)\n"
          ]
        },
        {
          "output_type": "stream",
          "name": "stdout",
          "text": [
            "\u001b[1m1/1\u001b[0m \u001b[32m━━━━━━━━━━━━━━━━━━━━\u001b[0m\u001b[37m\u001b[0m \u001b[1m0s\u001b[0m 53ms/step\n"
          ]
        },
        {
          "output_type": "stream",
          "name": "stderr",
          "text": [
            "/usr/local/lib/python3.11/dist-packages/keras/src/layers/core/dense.py:93: UserWarning: Do not pass an `input_shape`/`input_dim` argument to a layer. When using Sequential models, prefer using an `Input(shape)` object as the first layer in the model instead.\n",
            "  super().__init__(activity_regularizer=activity_regularizer, **kwargs)\n"
          ]
        },
        {
          "output_type": "stream",
          "name": "stdout",
          "text": [
            "\u001b[1m1/1\u001b[0m \u001b[32m━━━━━━━━━━━━━━━━━━━━\u001b[0m\u001b[37m\u001b[0m \u001b[1m0s\u001b[0m 54ms/step\n",
            "Optimizer: SGD\n",
            "  Accuracy: 0.5\n",
            "  F1 Score: 0.6667\n",
            "  Confusion Matrix: [[0, 3], [0, 3]]\n",
            "----------------------------------------\n",
            "Optimizer: SGD_Momentum\n",
            "  Accuracy: 0.5\n",
            "  F1 Score: 0.6667\n",
            "  Confusion Matrix: [[0, 3], [0, 3]]\n",
            "----------------------------------------\n",
            "Optimizer: SGD_Nesterov\n",
            "  Accuracy: 1.0\n",
            "  F1 Score: 1.0\n",
            "  Confusion Matrix: [[3, 0], [0, 3]]\n",
            "----------------------------------------\n",
            "Optimizer: Adam\n",
            "  Accuracy: 0.5\n",
            "  F1 Score: 0.6667\n",
            "  Confusion Matrix: [[0, 3], [0, 3]]\n",
            "----------------------------------------\n",
            "Optimizer: Adamax\n",
            "  Accuracy: 0.5\n",
            "  F1 Score: 0.0\n",
            "  Confusion Matrix: [[3, 0], [3, 0]]\n",
            "----------------------------------------\n",
            "Optimizer: Nadam\n",
            "  Accuracy: 0.5\n",
            "  F1 Score: 0.0\n",
            "  Confusion Matrix: [[3, 0], [3, 0]]\n",
            "----------------------------------------\n",
            "Optimizer: RMSprop\n",
            "  Accuracy: 0.5\n",
            "  F1 Score: 0.6667\n",
            "  Confusion Matrix: [[0, 3], [0, 3]]\n",
            "----------------------------------------\n",
            "Optimizer: Adagrad\n",
            "  Accuracy: 0.5\n",
            "  F1 Score: 0.6667\n",
            "  Confusion Matrix: [[0, 3], [0, 3]]\n",
            "----------------------------------------\n",
            "Optimizer: Adadelta\n",
            "  Accuracy: 0.5\n",
            "  F1 Score: 0.0\n",
            "  Confusion Matrix: [[3, 0], [3, 0]]\n",
            "----------------------------------------\n",
            "Optimizer: Ftrl\n",
            "  Accuracy: 0.5\n",
            "  F1 Score: 0.0\n",
            "  Confusion Matrix: [[3, 0], [3, 0]]\n",
            "----------------------------------------\n"
          ]
        }
      ],
      "source": [
        "from sklearn.model_selection import train_test_split\n",
        "from sklearn.metrics import accuracy_score, f1_score, confusion_matrix\n",
        "import pandas as pd\n",
        "import tensorflow as tf\n",
        "from tensorflow import keras\n",
        "\n",
        "# === Load Data ===\n",
        "filepath = '/content/insurance_data.csv'\n",
        "df = pd.read_csv(filepath)\n",
        "\n",
        "X = df[['age', 'affordibility']]\n",
        "y = df['bought_insurance']\n",
        "\n",
        "X_train, X_test, y_train, y_test = train_test_split(\n",
        "    X, y, test_size=0.2, random_state=42\n",
        ")\n",
        "\n",
        "# === List of optimizers to compare ===\n",
        "optimizers = {\n",
        "    \"SGD\": tf.keras.optimizers.SGD(learning_rate=0.01),\n",
        "    \"SGD_Momentum\": tf.keras.optimizers.SGD(learning_rate=0.01, momentum=0.9),\n",
        "    \"SGD_Nesterov\": tf.keras.optimizers.SGD(learning_rate=0.01, momentum=0.9, nesterov=True),\n",
        "    \"Adam\": tf.keras.optimizers.Adam(learning_rate=0.001),\n",
        "    \"Adamax\": tf.keras.optimizers.Adamax(learning_rate=0.002),\n",
        "    \"Nadam\": tf.keras.optimizers.Nadam(learning_rate=0.002),\n",
        "    \"RMSprop\": tf.keras.optimizers.RMSprop(learning_rate=0.001),\n",
        "    \"Adagrad\": tf.keras.optimizers.Adagrad(learning_rate=0.01),\n",
        "    \"Adadelta\": tf.keras.optimizers.Adadelta(learning_rate=1.0),\n",
        "    \"Ftrl\": tf.keras.optimizers.Ftrl(learning_rate=0.001)\n",
        "}\n",
        "\n",
        "# === Train and Evaluate with each optimizer ===\n",
        "results = []\n",
        "\n",
        "for name, opt in optimizers.items():\n",
        "    # Define model\n",
        "    model = keras.Sequential([\n",
        "        keras.layers.Dense(1, input_shape=(2,), activation='sigmoid')\n",
        "    ])\n",
        "\n",
        "    # Compile model\n",
        "    model.compile(\n",
        "        optimizer=opt,\n",
        "        loss='binary_crossentropy',\n",
        "        metrics=['accuracy']\n",
        "    )\n",
        "\n",
        "    # Train model\n",
        "    model.fit(X_train, y_train, epochs=200, verbose=0)\n",
        "\n",
        "    # Predictions\n",
        "    y_pred_prob = model.predict(X_test)\n",
        "    y_pred = (y_pred_prob > 0.5).astype(int)\n",
        "\n",
        "    # Evaluation\n",
        "    acc = accuracy_score(y_test, y_pred)\n",
        "    f1 = f1_score(y_test, y_pred)\n",
        "    cm = confusion_matrix(y_test, y_pred)\n",
        "\n",
        "    results.append({\n",
        "        \"Optimizer\": name,\n",
        "        \"Accuracy\": round(acc, 4),\n",
        "        \"F1 Score\": round(f1, 4),\n",
        "        \"Confusion Matrix\": cm.tolist()\n",
        "    })\n",
        "\n",
        "# === Print Results ===\n",
        "for res in results:\n",
        "    print(f\"Optimizer: {res['Optimizer']}\")\n",
        "    print(f\"  Accuracy: {res['Accuracy']}\")\n",
        "    print(f\"  F1 Score: {res['F1 Score']}\")\n",
        "    print(f\"  Confusion Matrix: {res['Confusion Matrix']}\")\n",
        "    print(\"-\" * 40)\n"
      ]
    }
  ]
}